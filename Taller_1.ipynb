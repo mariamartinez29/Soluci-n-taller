{
  "cells": [
    {
      "cell_type": "code",
      "source": [
        "#MARIA ALEJANDRA MARTINEZ \n",
        "#DANIELA MENDIETA"
      ],
      "metadata": {
        "id": "qBTkd07wPuw4"
      },
      "execution_count": null,
      "outputs": []
    },
    {
      "cell_type": "markdown",
      "source": [],
      "metadata": {
        "id": "xaNqZEFqPuJ4"
      }
    },
    {
      "cell_type": "markdown",
      "metadata": {
        "id": "qjwi7b2i395e"
      },
      "source": [
        "a) Crea un programa que tome una lista de números como entrada y devuelva la suma de todos los números en la lista.\n",
        "\n",
        "b) Escribe un programa que tome dos listas y devuelva una nueva lista que contenga todos los elementos que son comunes a ambas listas.\n",
        "\n",
        "c) Crea un programa que tome una lista de cadenas como entrada y devuelva la longitud de la cadena más larga en la lista.\n",
        "\n",
        "d) Escribe un programa que tome una lista de números como entrada y devuelva una nueva lista que contenga solo los números pares de la lista original.\n",
        "\n",
        "e) Crea un programa que tome una lista de cadenas como entrada y devuelva una nueva lista que contenga solo las cadenas que comienzan con la letra \"a\".\n",
        "\n",
        "f) Escribe un programa que tome un diccionario como entrada y devuelva el valor asociado con una clave dada.\n",
        "\n",
        "g) Crea un programa que tome una lista de diccionarios como entrada y devuelva una nueva lista que contenga solo los diccionarios que tienen una cierta clave.\n",
        "\n",
        "h) Escribe un programa que tome un diccionario como entrada y devuelva un nuevo diccionario con las claves y los valores intercambiados.\n",
        "\n",
        "i) Crea un programa que tome dos diccionarios como entrada y devuelva un nuevo diccionario que contenga solo los pares clave-valor que son comunes a ambos diccionarios.\n",
        "\n",
        "j) Escribe un programa que tome un diccionario como entrada y devuelva un nuevo diccionario con las claves ordenadas alfabéticamente.\n",
        "\n",
        "k) Escribe una función que tome dos números como entrada y devuelva su suma.\n",
        "\n",
        "l) Crea una función que tome una lista de cadenas como entrada y devuelva una nueva lista que contenga solo las cadenas que son más largas que una longitud dada.\n",
        "\n",
        "m) Escribe una función que tome una cadena como entrada y devuelva True si la cadena es un palíndromo, False en caso contrario.\n",
        "\n",
        "n) Crea una función que tome una lista de números como entrada y devuelva el promedio de todos los números en la lista.\n",
        "\n",
        "o) Escribe una función que tome un diccionario como entrada y devuelva una lista de todas las claves en el diccionario.\n",
        "\n",
        "p) Escribe un programa que tome una lista de números como entrada y devuelva el valor máximo en la lista.\n",
        "\n",
        "q) Crea un programa que tome una cadena como entrada y devuelva una nueva cadena que contenga solo las vocales en la cadena original.\n",
        "\n",
        "r) Escribe un programa que tome una lista de números como entrada y devuelva una nueva lista que contenga los valores al cuadrado de cada número en la lista original.\n",
        "\n",
        "s) Crea un programa que tome una cadena como entrada y devuelva una nueva cadena con los caracteres en orden inverso.\n",
        "\n",
        "t) Escribe un programa que tome una lista de cadenas como entrada y devuelva una nueva lista que contenga la longitud de cada cadena en la lista original."
      ]
    },
    {
      "cell_type": "code",
      "execution_count": null,
      "metadata": {
        "colab": {
          "base_uri": "https://localhost:8080/"
        },
        "id": "E6M2KLwV3j1t",
        "outputId": "02887813-8174-4409-f0a3-d7cc0a24abf3"
      },
      "outputs": [
        {
          "output_type": "stream",
          "name": "stdout",
          "text": [
            "24\n"
          ]
        }
      ],
      "source": [
        "##A\n",
        "lista = [1, 2, 3, 4, 6, 8]\n",
        "suma = sum(lista)\n",
        "print(suma)"
      ]
    },
    {
      "cell_type": "code",
      "execution_count": null,
      "metadata": {
        "colab": {
          "base_uri": "https://localhost:8080/"
        },
        "id": "n0NbDgM46sFD",
        "outputId": "6367dda5-6f16-40c5-8595-11954cb55bf9"
      },
      "outputs": [
        {
          "output_type": "stream",
          "name": "stdout",
          "text": [
            "[1, 2, 3, 4, 6, 8, 5, 6, 8]\n"
          ]
        }
      ],
      "source": [
        "##B\n",
        "lista2 = [5, 6, 8]\n",
        "\n",
        "print(lista + lista2)"
      ]
    },
    {
      "cell_type": "code",
      "execution_count": null,
      "metadata": {
        "colab": {
          "base_uri": "https://localhost:8080/"
        },
        "id": "_v7vNRlL-2Z0",
        "outputId": "16bcb4b0-af11-4fe4-ed0d-11d0f324fc12"
      },
      "outputs": [
        {
          "output_type": "stream",
          "name": "stdout",
          "text": [
            "[8, 6]\n"
          ]
        }
      ],
      "source": [
        "##B\n",
        "lista3 = list(set(lista) & set(lista2))\n",
        "print(lista3)"
      ]
    },
    {
      "cell_type": "code",
      "execution_count": null,
      "metadata": {
        "colab": {
          "base_uri": "https://localhost:8080/"
        },
        "id": "uJ2aEvS4GeFK",
        "outputId": "95f485ed-87ce-485e-d418-8c5dfe0bbd76"
      },
      "outputs": [
        {
          "output_type": "stream",
          "name": "stdout",
          "text": [
            "Febrero\n"
          ]
        }
      ],
      "source": [
        "##C\n",
        "meses = [\"Enero\",\"Febrero\",\"Marzo\",\"Abril\", 'Mayo', 'Agosto']\n",
        "\n",
        "mayor=meses[0]\n",
        "\n",
        "for j in meses:\n",
        "  if len(j)>=len(mayor):\n",
        "    mayor=j\n",
        "print (mayor)\n"
      ]
    },
    {
      "cell_type": "code",
      "source": [
        "##D\n",
        "lista1 = [8,11,12,13,58,42]\n",
        "pares1 = [n for n in lista1 if n%2== 0 ]\n",
        "print(pares1)"
      ],
      "metadata": {
        "colab": {
          "base_uri": "https://localhost:8080/"
        },
        "id": "qXZn0AWRSbVb",
        "outputId": "8754e1b9-77d0-4e7f-815e-35d250e66c38"
      },
      "execution_count": null,
      "outputs": [
        {
          "output_type": "stream",
          "name": "stdout",
          "text": [
            "[8, 12, 58, 42]\n"
          ]
        }
      ]
    },
    {
      "cell_type": "code",
      "execution_count": null,
      "metadata": {
        "colab": {
          "base_uri": "https://localhost:8080/"
        },
        "id": "UhvGtmDQI4a7",
        "outputId": "66f6586b-6207-4965-8895-13630bb21769"
      },
      "outputs": [
        {
          "output_type": "stream",
          "name": "stdout",
          "text": [
            "['anon', 'arandano']\n"
          ]
        }
      ],
      "source": [
        "##E\n",
        "lista6 =[\"anon\", \"lulo\", \"fresa\", \"arandano\"]\n",
        "nueva_lista=[]\n",
        "for palabra in lista6:\n",
        "  if palabra.startswith(\"a\"):\n",
        "    nueva_lista.append(palabra)\n",
        "print(nueva_lista)\n"
      ]
    },
    {
      "cell_type": "code",
      "execution_count": null,
      "metadata": {
        "colab": {
          "base_uri": "https://localhost:8080/"
        },
        "id": "5YjUE23TMH5A",
        "outputId": "95a48825-007a-465f-ff08-3353f772a8f9"
      },
      "outputs": [
        {
          "output_type": "execute_result",
          "data": {
            "text/plain": [
              "['rojo', 'verde', 'azul', 'amarillo']"
            ]
          },
          "metadata": {},
          "execution_count": 44
        }
      ],
      "source": [
        "##F\n",
        "carpeta = {'colores':['rojo', 'verde', 'azul', 'amarillo'], 'transporte':['avion','carro', 'tren', 'barco']}\n",
        "carpeta['colores']"
      ]
    },
    {
      "cell_type": "code",
      "source": [
        "##G"
      ],
      "metadata": {
        "id": "WyzEIpVeSg7t"
      },
      "execution_count": null,
      "outputs": []
    },
    {
      "cell_type": "code",
      "source": [
        "##H\n",
        "dicc = {'numero':1, 'letra':['A']}\n",
        "def cambio (dicc):\n",
        "  nuevo_dic = {}\n",
        "  for i, j in dicc.items ():\n",
        "    nuevo_dic[j] = i\n",
        "  return nuevo_dic\n",
        "\n",
        "dicc = {'letra':'A'}\n",
        "nuevo = cambio(dicc)\n",
        "print (nuevo)"
      ],
      "metadata": {
        "id": "up2-2rpBSlG_",
        "outputId": "e94c75fe-07ea-4a8d-d763-795f267f615c",
        "colab": {
          "base_uri": "https://localhost:8080/"
        }
      },
      "execution_count": null,
      "outputs": [
        {
          "output_type": "stream",
          "name": "stdout",
          "text": [
            "{'A': 'letra'}\n"
          ]
        }
      ]
    },
    {
      "cell_type": "code",
      "source": [
        "##I\n",
        "a = {'color1':[\"rojo\", \"azul\", \"lila\", \"fucsia\"]}\n",
        "b = {'color2':[\"verde\", \"naranja\", \"lila\", \"fucsia\"]}\n",
        "c = list(set(a['color1']) & set(b['color2']))\n",
        "print(c)"
      ],
      "metadata": {
        "id": "lSBTSih0Smh4",
        "colab": {
          "base_uri": "https://localhost:8080/"
        },
        "outputId": "84899df6-1ba8-4853-941c-cb89e6dc81cc"
      },
      "execution_count": null,
      "outputs": [
        {
          "output_type": "stream",
          "name": "stdout",
          "text": [
            "['fucsia', 'lila']\n"
          ]
        }
      ]
    },
    {
      "cell_type": "code",
      "source": [
        "##J\n",
        "carpeta = {'colores':['rojo', 'verde', 'azul', 'amarillo'], 'transporte':['avion','carro', 'tren', 'barco']}\n",
        "new = carpeta.keys()\n",
        "new = sorted(carpeta)\n",
        "print(new)"
      ],
      "metadata": {
        "id": "soGf4NmuSmeP",
        "colab": {
          "base_uri": "https://localhost:8080/"
        },
        "outputId": "9d753f17-e262-4f30-a605-e27842135166"
      },
      "execution_count": null,
      "outputs": [
        {
          "output_type": "stream",
          "name": "stdout",
          "text": [
            "['colores', 'transporte']\n"
          ]
        }
      ]
    },
    {
      "cell_type": "code",
      "execution_count": null,
      "metadata": {
        "colab": {
          "base_uri": "https://localhost:8080/"
        },
        "id": "qNrqPU42UNAs",
        "outputId": "2748d38d-2656-425d-a53e-881d62c141ce"
      },
      "outputs": [
        {
          "output_type": "stream",
          "name": "stdout",
          "text": [
            "17.0\n"
          ]
        }
      ],
      "source": [
        "##K\n",
        "notas = [9.0, 8.0]\n",
        "suma_de_notas = sum(notas)\n",
        "print(suma_de_notas)"
      ]
    },
    {
      "cell_type": "code",
      "execution_count": null,
      "metadata": {
        "colab": {
          "base_uri": "https://localhost:8080/"
        },
        "id": "3B8RRZ6PCYiH",
        "outputId": "5a162583-306b-4007-8c6d-26fb523efc86"
      },
      "outputs": [
        {
          "output_type": "stream",
          "name": "stdout",
          "text": [
            "Septiembre\n",
            "Noviembre\n",
            "Diciembre\n"
          ]
        }
      ],
      "source": [
        "##L\n",
        "meses = ['Enero','Febrero','Marzo','Abril', 'Mayo', 'Junio','Julio', 'Agosto', 'Septiembre', 'Octubre', 'Noviembre', 'Diciembre']\n",
        "for j in meses:\n",
        "  if len(j) > 7:\n",
        "    print (j)"
      ]
    },
    {
      "cell_type": "code",
      "source": [
        "##M Escribe una función que tome una cadena como entrada y devuelva True si la cadena es un palíndromo, False en caso contrario.\n",
        "palabra = ['reconocer']\n",
        "def si_o_no(palabra):\n",
        "  start = 0\n",
        "  end = len (palabra) -1\n",
        "  while palabra[start] == palabra[end]:\n",
        "    if start >= end:\n",
        "      return True\n",
        "    start += 1\n",
        "    end -= 1\n",
        "  return False\n",
        "\n",
        "print(si_o_no(palabra)) "
      ],
      "metadata": {
        "id": "B7EJuWYXSwbm",
        "colab": {
          "base_uri": "https://localhost:8080/"
        },
        "outputId": "09dd87b8-5fe2-4e1c-ece6-166154cf56a1"
      },
      "execution_count": null,
      "outputs": [
        {
          "output_type": "stream",
          "name": "stdout",
          "text": [
            "True\n"
          ]
        }
      ]
    },
    {
      "cell_type": "code",
      "source": [
        "##N\n",
        "lista = [1,2,4,8]\n",
        "promedio = sum(lista)/len(lista)\n",
        "print(promedio)"
      ],
      "metadata": {
        "colab": {
          "base_uri": "https://localhost:8080/"
        },
        "id": "gYMt2MtWL2ds",
        "outputId": "868f0670-d1ad-433d-99b1-734e4cdd9a3f"
      },
      "execution_count": null,
      "outputs": [
        {
          "output_type": "stream",
          "name": "stdout",
          "text": [
            "3.75\n"
          ]
        }
      ]
    },
    {
      "cell_type": "code",
      "source": [
        "##O\n",
        "carpeta.items()\n"
      ],
      "metadata": {
        "colab": {
          "base_uri": "https://localhost:8080/"
        },
        "id": "4UIvjcfrOAnB",
        "outputId": "28d8b702-7064-4753-ed77-ce2ac17bbf40"
      },
      "execution_count": null,
      "outputs": [
        {
          "output_type": "execute_result",
          "data": {
            "text/plain": [
              "dict_items([('colores', ['rojo', 'verde', 'azul', 'amarillo']), ('transporte', ['avion', 'carro', 'tren', 'barco'])])"
            ]
          },
          "metadata": {},
          "execution_count": 59
        }
      ]
    },
    {
      "cell_type": "code",
      "source": [
        "##P\n",
        "lista = [2,4,5,12,54,68,3,34,56]\n",
        "print(max(lista))"
      ],
      "metadata": {
        "colab": {
          "base_uri": "https://localhost:8080/"
        },
        "id": "wBg1B3amOlVD",
        "outputId": "f0873f69-1c9c-4e42-954d-2e4293059565"
      },
      "execution_count": null,
      "outputs": [
        {
          "output_type": "stream",
          "name": "stdout",
          "text": [
            "68\n"
          ]
        }
      ]
    },
    {
      "cell_type": "code",
      "source": [
        "##Q\n",
        "frase = 'solucion del taller'\n",
        "def vocales_frase(frase):\n",
        "  taller = 'solucion taller'\n",
        "  vocales = 'aeiou'\n",
        "  return[i for i in frase if i in vocales]\n",
        "\n",
        "print(vocales_frase(frase))"
      ],
      "metadata": {
        "colab": {
          "base_uri": "https://localhost:8080/"
        },
        "id": "CsP2-eBr4yOs",
        "outputId": "a34f7749-27ce-43cf-ec7f-61e4b9ddaa1b"
      },
      "execution_count": null,
      "outputs": [
        {
          "output_type": "stream",
          "name": "stdout",
          "text": [
            "['o', 'u', 'i', 'o', 'e', 'a', 'e']\n"
          ]
        }
      ]
    },
    {
      "cell_type": "code",
      "source": [
        "##R\n",
        "listan = [2,4,6,8]\n",
        "def numeros_alcuadrado(listan):\n",
        "  list_alcuadrado = []\n",
        "  for n in listan:\n",
        "    list_alcuadrado.append(n ** 2)\n",
        "  return list_alcuadrado\n",
        "\n",
        "print(numeros_alcuadrado(listan))"
      ],
      "metadata": {
        "id": "pxb3R60PSTaq",
        "colab": {
          "base_uri": "https://localhost:8080/"
        },
        "outputId": "906525ad-0103-455f-93f6-40cdc91da2c4"
      },
      "execution_count": null,
      "outputs": [
        {
          "output_type": "stream",
          "name": "stdout",
          "text": [
            "[4, 16, 36, 64]\n"
          ]
        }
      ]
    },
    {
      "cell_type": "code",
      "source": [
        "##S\n",
        "taller = 'solucion taller'\n",
        "def taller_inverso(taller):\n",
        "  return taller [::-1]\n",
        "\n",
        "print(taller_inverso(taller))"
      ],
      "metadata": {
        "id": "CUn4FEqAS55p",
        "colab": {
          "base_uri": "https://localhost:8080/"
        },
        "outputId": "540233ee-a2b0-4d11-cdf6-9edf6c48bce3"
      },
      "execution_count": null,
      "outputs": [
        {
          "output_type": "stream",
          "name": "stdout",
          "text": [
            "rellat noiculos\n"
          ]
        }
      ]
    },
    {
      "cell_type": "code",
      "source": [
        "##T Escribe un programa que tome una lista de cadenas como entrada y devuelva una nueva lista que contenga la longitud de cada cadena en la lista original.\n",
        "transporte = ['avion', 'tren','carro','barco']\n",
        "def longi_de_transporte(transporte):\n",
        "  longi = []\n",
        "\n",
        "  for i in transporte:\n",
        "    longi.append(len(i))\n",
        "  return longi \n",
        "longi = longi_de_transporte(transporte)\n",
        "print(longi)\n",
        "\n"
      ],
      "metadata": {
        "id": "ZBdTUBGnS7rd",
        "colab": {
          "base_uri": "https://localhost:8080/"
        },
        "outputId": "36b34441-1b96-4595-a0ce-6393582e3313"
      },
      "execution_count": null,
      "outputs": [
        {
          "output_type": "stream",
          "name": "stdout",
          "text": [
            "[5, 4, 5, 5]\n"
          ]
        }
      ]
    }
  ],
  "metadata": {
    "colab": {
      "provenance": []
    },
    "kernelspec": {
      "display_name": "Python 3",
      "name": "python3"
    },
    "language_info": {
      "name": "python"
    }
  },
  "nbformat": 4,
  "nbformat_minor": 0
}